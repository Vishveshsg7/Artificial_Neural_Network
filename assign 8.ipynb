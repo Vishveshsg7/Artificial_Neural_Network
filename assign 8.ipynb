{
 "cells": [
  {
   "cell_type": "code",
   "execution_count": 8,
   "id": "bc0047f0",
   "metadata": {},
   "outputs": [
    {
     "ename": "TypeError",
     "evalue": "NeuralNetwork() takes no arguments",
     "output_type": "error",
     "traceback": [
      "\u001b[1;31m---------------------------------------------------------------------------\u001b[0m",
      "\u001b[1;31mTypeError\u001b[0m                                 Traceback (most recent call last)",
      "Input \u001b[1;32mIn [8]\u001b[0m, in \u001b[0;36m<cell line: 44>\u001b[1;34m()\u001b[0m\n\u001b[0;32m     39\u001b[0m         \u001b[38;5;28mself\u001b[39m\u001b[38;5;241m.\u001b[39mweights_ho \u001b[38;5;241m+\u001b[39m\u001b[38;5;241m=\u001b[39m learning_rate \u001b[38;5;241m*\u001b[39m np\u001b[38;5;241m.\u001b[39mdot(hidden_outputs\u001b[38;5;241m.\u001b[39mT,output_error \u001b[38;5;241m*\u001b[39m output_dervative)\n\u001b[0;32m     41\u001b[0m         \u001b[38;5;28mself\u001b[39m\u001b[38;5;241m.\u001b[39mweights_ih \u001b[38;5;241m+\u001b[39m\u001b[38;5;241m=\u001b[39m learning_rate \u001b[38;5;241m*\u001b[39m np\u001b[38;5;241m.\u001b[39mdot(inputs\u001b[38;5;241m.\u001b[39mT,hidden_error \u001b[38;5;241m*\u001b[39m hidden_derivative)\n\u001b[1;32m---> 44\u001b[0m neural_network \u001b[38;5;241m=\u001b[39m \u001b[43mNeuralNetwork\u001b[49m\u001b[43m(\u001b[49m\u001b[38;5;241;43m2\u001b[39;49m\u001b[43m,\u001b[49m\u001b[38;5;241;43m4\u001b[39;49m\u001b[43m,\u001b[49m\u001b[38;5;241;43m1\u001b[39;49m\u001b[43m)\u001b[49m\n\u001b[0;32m     46\u001b[0m inputs \u001b[38;5;241m=\u001b[39m np\u001b[38;5;241m.\u001b[39marray([[\u001b[38;5;241m0\u001b[39m,\u001b[38;5;241m0\u001b[39m],[\u001b[38;5;241m0\u001b[39m,\u001b[38;5;241m1\u001b[39m],[\u001b[38;5;241m1\u001b[39m,\u001b[38;5;241m0\u001b[39m],[\u001b[38;5;241m1\u001b[39m,\u001b[38;5;241m1\u001b[39m]])\n\u001b[0;32m     47\u001b[0m targets \u001b[38;5;241m=\u001b[39m np\u001b[38;5;241m.\u001b[39marray([[\u001b[38;5;241m0\u001b[39m],[\u001b[38;5;241m0\u001b[39m],[\u001b[38;5;241m0\u001b[39m],[\u001b[38;5;241m1\u001b[39m]])\n",
      "\u001b[1;31mTypeError\u001b[0m: NeuralNetwork() takes no arguments"
     ]
    }
   ],
   "source": [
    "import numpy as np\n",
    "import pandas as pd\n",
    "\n",
    "\n",
    "def sigmoid(x):\n",
    "    return 1/ (1 + np.exp(-x))\n",
    "\n",
    "def sigmoid_derivative(x):\n",
    "    return x * (1-x)\n",
    "\n",
    "\n",
    "class NeuralNetwork:\n",
    "    def _init_(self,inputs,hidden,outputs):\n",
    "        self.weights_ih = np.random.rand(inputs,hidden)\n",
    "        self.weights_ho = np.random.rand(hidden,outputs)\n",
    "        \n",
    "    def feedforward(self,inputs):\n",
    "        hidden_inputs = np.dot(inputs,self.weights_ih)\n",
    "        hidden_outputs = sigmoid(hidden_inputs)\n",
    "        output_inputs = np.dot(hidden_outputs,self.weights_ho)\n",
    "        output_outputs = sigmoid(output_inputs)\n",
    "        \n",
    "        return output_outputs\n",
    "    \n",
    "    def train(self,inputs,targets,learning_rate):\n",
    "        hidden_inputs = np.dot(inputs,self.weights_ih)\n",
    "        hidden_outputs = sigmoid(hidden_inputs)\n",
    "        output_inputs = np.dot(hidden_outputs,self.weights_ho)\n",
    "        output_outputs = sigmoid(output_inputs)\n",
    "        \n",
    "        output_error = targets - output_outputs\n",
    "        \n",
    "        output_dervative = sigmoid_derivative(output_outputs)\n",
    "        \n",
    "        hidden_error = np.dot(output_error,self.weights_ho.T)\n",
    "        \n",
    "        hidden_derivative = sigmoid_derivative(hidden_outputs)\n",
    "        \n",
    "        self.weights_ho += learning_rate * np.dot(hidden_outputs.T,output_error * output_dervative)\n",
    "        \n",
    "        self.weights_ih += learning_rate * np.dot(inputs.T,hidden_error * hidden_derivative)\n",
    "\n",
    "\n",
    "neural_network = NeuralNetwork(2,4,1)\n",
    "\n",
    "inputs = np.array([[0,0],[0,1],[1,0],[1,1]])\n",
    "targets = np.array([[0],[0],[0],[1]])\n",
    "\n",
    "for i in range(10000):\n",
    "    neural_network.train(inputs,targets,0.1)\n",
    "    \n",
    "    \n",
    "print(neural_network.feedforward(np.array([0,0])).round())\n",
    "print(neural_network.feedforward(np.array([0,1])).round())\n",
    "print(neural_network.feedforward(np.array([1,0])).round())\n",
    "print(neural_network.feedforward(np.array([1,1])).round())"
   ]
  },
  {
   "cell_type": "code",
   "execution_count": 7,
   "id": "bb767a86",
   "metadata": {},
   "outputs": [
    {
     "ename": "TypeError",
     "evalue": "NeuralNetwork() takes no arguments",
     "output_type": "error",
     "traceback": [
      "\u001b[1;31m---------------------------------------------------------------------------\u001b[0m",
      "\u001b[1;31mTypeError\u001b[0m                                 Traceback (most recent call last)",
      "Input \u001b[1;32mIn [7]\u001b[0m, in \u001b[0;36m<cell line: 31>\u001b[1;34m()\u001b[0m\n\u001b[0;32m     28\u001b[0m         \u001b[38;5;28mself\u001b[39m\u001b[38;5;241m.\u001b[39mwho \u001b[38;5;241m+\u001b[39m\u001b[38;5;241m=\u001b[39m np\u001b[38;5;241m.\u001b[39mdot(hidden_output\u001b[38;5;241m.\u001b[39mT,output_delta)\u001b[38;5;241m*\u001b[39mlr\n\u001b[0;32m     29\u001b[0m         \u001b[38;5;28mself\u001b[39m\u001b[38;5;241m.\u001b[39mwih \u001b[38;5;241m+\u001b[39m\u001b[38;5;241m=\u001b[39m np\u001b[38;5;241m.\u001b[39mdot(inputs\u001b[38;5;241m.\u001b[39mT,hidden_delta)\u001b[38;5;241m*\u001b[39mlr\n\u001b[1;32m---> 31\u001b[0m neural_network\u001b[38;5;241m=\u001b[39m\u001b[43mNeuralNetwork\u001b[49m\u001b[43m(\u001b[49m\u001b[38;5;241;43m2\u001b[39;49m\u001b[43m,\u001b[49m\u001b[38;5;241;43m4\u001b[39;49m\u001b[43m,\u001b[49m\u001b[38;5;241;43m1\u001b[39;49m\u001b[43m)\u001b[49m        \n\u001b[0;32m     32\u001b[0m inputs\u001b[38;5;241m=\u001b[39mnp\u001b[38;5;241m.\u001b[39marray([[\u001b[38;5;241m0\u001b[39m,\u001b[38;5;241m0\u001b[39m],[\u001b[38;5;241m0\u001b[39m,\u001b[38;5;241m1\u001b[39m],[\u001b[38;5;241m1\u001b[39m,\u001b[38;5;241m0\u001b[39m],[\u001b[38;5;241m1\u001b[39m,\u001b[38;5;241m1\u001b[39m]])\n\u001b[0;32m     33\u001b[0m targets\u001b[38;5;241m=\u001b[39mnp\u001b[38;5;241m.\u001b[39marray([[\u001b[38;5;241m0\u001b[39m],[\u001b[38;5;241m1\u001b[39m],[\u001b[38;5;241m1\u001b[39m],[\u001b[38;5;241m0\u001b[39m]])\n",
      "\u001b[1;31mTypeError\u001b[0m: NeuralNetwork() takes no arguments"
     ]
    }
   ],
   "source": [
    "import numpy as np\n",
    "\n",
    "def sigmoid(x):\n",
    "    return 1/(1+np.exp(-x))\n",
    "def sigmoid_deriv(x):\n",
    "    return x*(1-x)\n",
    "\n",
    "class NeuralNetwork:\n",
    "    def _init_(self,inputs,hidden,output):\n",
    "        self.wih = np.random.randn(inputs,hidden)\n",
    "        self.who=np.random.randn(hidden,output)\n",
    "        \n",
    "    def feedforward(self,inputs):\n",
    "        hidden_output=sigmoid(np.dot(inputs,self.wih))\n",
    "        output=sigmoid(np.dot(hidden_output,self.who))\n",
    "        \n",
    "        return output\n",
    "    def train(self,inputs,targets,lr):\n",
    "        hidden_output=sigmoid(np.dot(inputs,self.wih))\n",
    "        output=sigmoid(np.dot(hidden_output,self.who))\n",
    "        \n",
    "        output_error=targets-output\n",
    "        output_delta=output_error * sigmoid_deriv(output)\n",
    "        \n",
    "        hidden_error=np.dot(output_error,self.who.T)\n",
    "        hidden_delta= hidden_error * sigmoid_deriv(hidden_output)\n",
    "        \n",
    "        self.who += np.dot(hidden_output.T,output_delta)*lr\n",
    "        self.wih += np.dot(inputs.T,hidden_delta)*lr\n",
    "        \n",
    "neural_network=NeuralNetwork(2,4,1)        \n",
    "inputs=np.array([[0,0],[0,1],[1,0],[1,1]])\n",
    "targets=np.array([[0],[1],[1],[0]])\n",
    "\n",
    "for i in range(1000):\n",
    "    neural_network.train(inputs,targets,0.1)\n",
    "    \n",
    "print(neural_network.feedforward(np.array([0,0])).round())\n",
    "print(neural_network.feedforward(np.array([0,1])).round())\n",
    "print(neural_network.feedforward(np.array([1,0])).round())\n",
    "print(neural_network.feedforward(np.array([1,1])).round())"
   ]
  },
  {
   "cell_type": "code",
   "execution_count": null,
   "id": "44262de7",
   "metadata": {},
   "outputs": [],
   "source": []
  }
 ],
 "metadata": {
  "kernelspec": {
   "display_name": "Python 3 (ipykernel)",
   "language": "python",
   "name": "python3"
  },
  "language_info": {
   "codemirror_mode": {
    "name": "ipython",
    "version": 3
   },
   "file_extension": ".py",
   "mimetype": "text/x-python",
   "name": "python",
   "nbconvert_exporter": "python",
   "pygments_lexer": "ipython3",
   "version": "3.9.12"
  }
 },
 "nbformat": 4,
 "nbformat_minor": 5
}
